{
 "cells": [
  {
   "cell_type": "code",
   "execution_count": null,
   "metadata": {
    "ExecuteTime": {
     "start_time": "2018-12-16T07:39:08.271Z"
    }
   },
   "outputs": [
    {
     "name": "stdout",
     "output_type": "stream",
     "text": [
      "Enter the URL you wish to crawl..\n",
      "Usage  - \"http://phocks.org/stumble/creepy/\" <-- With the double quotes\n"
     ]
    }
   ],
   "source": [
    "\n",
    "import re, urllib\n",
    "print (\"Enter the URL you wish to crawl..\")\n",
    "print ('Usage  - \"http://phocks.org/stumble/creepy/\" <-- With the double quotes')\n",
    "myurl = input(\"@> \")\n",
    "for i in re.findall('''href=[\"'](.[^\"']+)[\"']''', urllib.urlopen(myurl).read(), re.I):\n",
    "        print (i  )\n",
    "        for ee in re.findall('''href=[\"'](.[^\"']+)[\"']''', urllib.urlopen(i).read(), re.I):\n",
    "                print (ee)\n",
    "                textfile.write(ee+'\\n')\n",
    "textfile.close()"
   ]
  },
  {
   "cell_type": "code",
   "execution_count": null,
   "metadata": {},
   "outputs": [],
   "source": []
  }
 ],
 "metadata": {
  "kernelspec": {
   "display_name": "Python 2",
   "language": "python",
   "name": "python2"
  },
  "language_info": {
   "codemirror_mode": {
    "name": "ipython",
    "version": 2
   },
   "file_extension": ".py",
   "mimetype": "text/x-python",
   "name": "python",
   "nbconvert_exporter": "python",
   "pygments_lexer": "ipython2",
   "version": "2.7.15"
  },
  "latex_envs": {
   "LaTeX_envs_menu_present": true,
   "autoclose": false,
   "autocomplete": true,
   "bibliofile": "biblio.bib",
   "cite_by": "apalike",
   "current_citInitial": 1,
   "eqLabelWithNumbers": true,
   "eqNumInitial": 1,
   "hotkeys": {
    "equation": "Ctrl-E",
    "itemize": "Ctrl-I"
   },
   "labels_anchors": false,
   "latex_user_defs": false,
   "report_style_numbering": true,
   "user_envs_cfg": false
  }
 },
 "nbformat": 4,
 "nbformat_minor": 2
}
